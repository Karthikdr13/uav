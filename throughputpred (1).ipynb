{
 "cells": [
  {
   "cell_type": "code",
   "execution_count": 2,
   "id": "48e7f093-a62e-46da-99b0-c3f3f73b991d",
   "metadata": {},
   "outputs": [
    {
     "name": "stdout",
     "output_type": "stream",
     "text": [
      "R² Score: 0.900\n",
      "RMSE: 8.06 Mbps\n"
     ]
    },
    {
     "data": {
      "image/png": "[encoded data removed]",
      "text/plain": [
       "<Figure size 800x400 with 1 Axes>"
      ]
     },
     "metadata": {},
     "output_type": "display_data"
    }
   ],
   "source": [
    "\n",
    "\n",
    "from sklearn.ensemble import RandomForestRegressor\n",
    "from sklearn.model_selection import train_test_split\n",
    "from sklearn.metrics import mean_squared_error, r2_score\n",
    "import pandas as pd\n",
    "import numpy as np\n",
    "from math import sqrt\n",
    "\n",
    "DATA_PATH = \"C:/Users/karth/Downloads/Ericsson_Amir/Dryad/\"\n",
    "\n",
    "def load_data(filename):\n",
    "    df = pd.read_csv(DATA_PATH + filename)\n",
    "    df[\"Time and date\"] = pd.to_datetime(df[\"Time and date\"], errors=\"coerce\")\n",
    "    return df\n",
    "\n",
    "def round_time(df):\n",
    "    df[\"Time and date\"] = df[\"Time and date\"].dt.round(\"1s\")\n",
    "    return df\n",
    "\n",
    "throughput_45 = round_time(load_data('yaw45/input_throughput_with_header.csv'))\n",
    "LTE_RSRP_45 = round_time(load_data('yaw45/inputf1_rsrp_with_header.csv'))\n",
    "LTE_SINR_45 = round_time(load_data('yaw45/inputf1_sinr_with_header.csv'))\n",
    "NR_RSRP_45 = round_time(load_data('yaw45/inputf2_rsrp_with_header.csv'))\n",
    "NR_SINR_45 = round_time(load_data('yaw45/inputf2_sinr_with_header.csv'))\n",
    "NR_CQI_45 = round_time(load_data('yaw45/inputf2_cqi_with_header.csv'))\n",
    "NR_MCS_45 = round_time(load_data('yaw45/inputf2_mcs_with_header.csv'))\n",
    "\n",
    "for df_tmp in [NR_RSRP_45, NR_SINR_45, NR_CQI_45, NR_MCS_45, LTE_RSRP_45, LTE_SINR_45]:\n",
    "    df_tmp.drop(columns=[\"ID\", \"Latitude\", \"Longitude\", \"Altitude\"], inplace=True, errors='ignore')\n",
    "\n",
    "\n",
    "# --- Merge features by rounded time ---\n",
    "df = throughput_45.copy()\n",
    "df = df.merge(NR_RSRP_45, on=\"Time and date\", how=\"inner\")\n",
    "df = df.merge(NR_SINR_45, on=\"Time and date\", how=\"inner\")\n",
    "df = df.merge(NR_CQI_45, on=\"Time and date\", how=\"inner\")\n",
    "df = df.merge(NR_MCS_45, on=\"Time and date\", how=\"inner\")\n",
    "\n",
    "# Rename for clarity if needed\n",
    "df.rename(columns={\n",
    "    \"DL Throughput Mbps\": \"Throughput\",\n",
    "    \"NR RSRP\": \"RSRP\",\n",
    "    \"NR SINR\": \"SINR\",\n",
    "    \"NR CQI\": \"CQI\",\n",
    "    \"NR MCS\": \"MCS\"\n",
    "}, inplace=True)\n",
    "\n",
    "# Drop missing values\n",
    "df = df.dropna(subset=[\"Throughput\", \"RSRP\", \"SINR\", \"CQI\", \"MCS\"])\n",
    "\n",
    "# --- Feature and label setup ---\n",
    "features = [\"RSRP\", \"SINR\", \"CQI\", \"MCS\"]\n",
    "X = df[features]\n",
    "y = df[\"Throughput\"]\n",
    "\n",
    "# --- Train-test split ---\n",
    "X_train, X_test, y_train, y_test = train_test_split(X, y, test_size=0.2, random_state=42)\n",
    "\n",
    "# --- Train model ---\n",
    "model = RandomForestRegressor(n_estimators=100, random_state=42)\n",
    "model.fit(X_train, y_train)\n",
    "\n",
    "# --- Evaluation ---\n",
    "y_pred = model.predict(X_test)\n",
    "print(f\"R² Score: {r2_score(y_test, y_pred):.3f}\")\n",
    "\n",
    "print(f\"RMSE: {sqrt(mean_squared_error(y_test, y_pred)):.2f} Mbps\")\n",
    "\n",
    "\n",
    "# --- Feature Importance ---\n",
    "import matplotlib.pyplot as plt\n",
    "import seaborn as sns\n",
    "\n",
    "plt.figure(figsize=(8, 4))\n",
    "sns.barplot(x=model.feature_importances_, y=features)\n",
    "plt.title(\"Feature Importance for Throughput Prediction\")\n",
    "plt.xlabel(\"Importance\")\n",
    "plt.ylabel(\"Feature\")\n",
    "plt.tight_layout()\n",
    "plt.show()\n",
    "\n"
   ]
  },
  {
   "cell_type": "code",
   "execution_count": null,
   "id": "b2e60d91-7a16-46d9-8fc6-13f709d62f32",
   "metadata": {},
   "outputs": [],
   "source": []
  }
 ],
 "metadata": {
  "kernelspec": {
   "display_name": "Python 3 (ipykernel)",
   "language": "python",
   "name": "python3"
  },
  "language_info": {
   "codemirror_mode": {
    "name": "ipython",
    "version": 3
   },
   "file_extension": ".py",
   "mimetype": "text/x-python",
   "name": "python",
   "nbconvert_exporter": "python",
   "pygments_lexer": "ipython3",
   "version": "3.12.7"
  }
 },
 "nbformat": 4,
 "nbformat_minor": 5
}
